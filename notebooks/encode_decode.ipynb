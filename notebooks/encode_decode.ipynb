{
 "cells": [
  {
   "cell_type": "markdown",
   "metadata": {},
   "source": [
    "# Build a tool to encode and decode text\n",
    "\n",
    "I'll define a method that can be used to both encode and decode a text string using a simple letter-substitution cipher. "
   ]
  },
  {
   "cell_type": "code",
   "execution_count": 1,
   "metadata": {},
   "outputs": [],
   "source": [
    "# Build a 'dictionary' that maps letters to other letters.\n",
    "# In order to be a symmetrical encoding (the same method encodes and decodes),\n",
    "# the letter that each letter maps to has to map back to that letter.\n",
    "# In this case, I'm just mapping the first half of the alphabet to the second,\n",
    "# and vice versa.\n",
    "encoder_decoder_dict = {\n",
    "    \"A\": \"N\",\n",
    "    \"B\": \"O\",\n",
    "    \"C\": \"P\",\n",
    "    \"D\": \"Q\",\n",
    "    \"E\": \"R\",\n",
    "    \"F\": \"S\",\n",
    "    \"G\": \"T\",\n",
    "    \"H\": \"U\",\n",
    "    \"I\": \"V\",\n",
    "    \"J\": \"W\",\n",
    "    \"K\": \"X\",\n",
    "    \"L\": \"Y\",\n",
    "    \"M\": \"Z\",\n",
    "    \"N\": \"A\",\n",
    "    \"O\": \"B\",\n",
    "    \"P\": \"C\",\n",
    "    \"Q\": \"D\",\n",
    "    \"R\": \"E\",\n",
    "    \"S\": \"F\",\n",
    "    \"T\": \"G\",\n",
    "    \"U\": \"H\",\n",
    "    \"V\": \"I\",\n",
    "    \"W\": \"J\",\n",
    "    \"X\": \"K\",\n",
    "    \"Y\": \"L\",\n",
    "    \"Z\": \"M\",\n",
    "}\n"
   ]
  },
  {
   "cell_type": "code",
   "execution_count": 6,
   "metadata": {},
   "outputs": [],
   "source": [
    "def encode_decode(input_str):\n",
    "    \"\"\"\n",
    "    Use the dictionary I defined above to encode a string.\n",
    "    \"\"\"\n",
    "    # This list will contain all the characters of the output, in order\n",
    "    output_list = []\n",
    "    \n",
    "    # loop over each character of the input\n",
    "    for in_character in input_str:\n",
    "        # by default, just set the output character to the same as the input.\n",
    "        out_character = in_character\n",
    "        # now, check to see if the input character is in our dictionary. If so,\n",
    "        # return the appropriate mapped (encoded) character\n",
    "        if in_character in encoder_decoder_dict:\n",
    "            out_character = encoder_decoder_dict[in_character]\n",
    "        # append the output character to our growing output list\n",
    "        output_list.append(out_character)\n",
    "    # return a string that's all of the output characters joined together\n",
    "    return ''.join(output_list)"
   ]
  },
  {
   "cell_type": "code",
   "execution_count": 7,
   "metadata": {},
   "outputs": [
    {
     "data": {
      "text/plain": [
       "'UV, RYRAN!'"
      ]
     },
     "execution_count": 7,
     "metadata": {},
     "output_type": "execute_result"
    }
   ],
   "source": [
    "# Encode a message\n",
    "encode_decode(\"HI, ELENA!\")"
   ]
  },
  {
   "cell_type": "code",
   "execution_count": 8,
   "metadata": {},
   "outputs": [
    {
     "data": {
      "text/plain": [
       "'HI, ELENA!'"
      ]
     },
     "execution_count": 8,
     "metadata": {},
     "output_type": "execute_result"
    }
   ],
   "source": [
    "# If you run encode_decode on an encoded string, you get the original input\n",
    "encode_decode('UV, RYRAN!')"
   ]
  },
  {
   "cell_type": "code",
   "execution_count": 9,
   "metadata": {},
   "outputs": [
    {
     "data": {
      "text/plain": [
       "'HI, ELENA!'"
      ]
     },
     "execution_count": 9,
     "metadata": {},
     "output_type": "execute_result"
    }
   ],
   "source": [
    "# Both of the above cells, together\n",
    "encode_decode(encode_decode(\"HI, ELENA!\"))"
   ]
  },
  {
   "cell_type": "code",
   "execution_count": 10,
   "metadata": {},
   "outputs": [
    {
     "data": {
      "text/plain": [
       "'UV, ORN!'"
      ]
     },
     "execution_count": 10,
     "metadata": {},
     "output_type": "execute_result"
    }
   ],
   "source": [
    "encode_decode(\"HI, BEA!\")"
   ]
  },
  {
   "cell_type": "code",
   "execution_count": null,
   "metadata": {},
   "outputs": [],
   "source": []
  }
 ],
 "metadata": {
  "kernelspec": {
   "display_name": "Python 3",
   "language": "python",
   "name": "python3"
  },
  "language_info": {
   "codemirror_mode": {
    "name": "ipython",
    "version": 3
   },
   "file_extension": ".py",
   "mimetype": "text/x-python",
   "name": "python",
   "nbconvert_exporter": "python",
   "pygments_lexer": "ipython3",
   "version": "3.7.0"
  }
 },
 "nbformat": 4,
 "nbformat_minor": 2
}
