{
 "cells": [
  {
   "cell_type": "markdown",
   "metadata": {},
   "source": [
    "# Camp Fire stats\n",
    "\n",
    "On 2020-02-05, we met and did animal stuff. One of the things we did is record a number of measurements of each Camp Fire member. I love working with data, so I couldn't resist the chance to do some statistics on those numbers.\n",
    "\n",
    "The measurements we took are:\n",
    "\n",
    "* breath: how long can you hold your breath?\n",
    "* legs: how many inches long are your legs?\n",
    "* arms: how many inches long is your arm span?\n",
    "* smell: from how many inches away can you smell a jar of cinnamon?\n",
    "* jump: how many inches can you standing-long-jump?\n",
    "* run: how many seconds does it take you to run 30 feet?\n",
    "* weight: how many pounds do you weigh?\n",
    "* sleep: how many hours a night do you sleep?\n",
    "\n",
    "In this Jupyter notebook, I'll explore the data set a bit, and I'll explain how I did it.\n",
    "\n",
    "## Import some tools\n",
    "\n",
    "First, I need to \"import\" some packages, or collections of tools, to use to work with the data."
   ]
  },
  {
   "cell_type": "code",
   "execution_count": 2,
   "metadata": {},
   "outputs": [],
   "source": [
    "# pandas has nothing to do with the animal.\n",
    "# it has everything to do with working with tables of data, like ours.\n",
    "# \"as pd\" means that, when I refer to pandas, I'll call it \"pd\"\n",
    "import pandas as pd    \n",
    "\n",
    "# seaborn is for making pretty plots\n",
    "import seaborn as sns\n",
    "\n",
    "# matplotlib also has stuff for making plots\n",
    "from matplotlib import pyplot as plt\n",
    "\n",
    "# numpy is for mathy stuff\n",
    "import numpy as np\n"
   ]
  },
  {
   "cell_type": "markdown",
   "metadata": {},
   "source": [
    "## Load the data\n",
    "\n",
    "Next, I'll load the \"TSV\" spreadsheet that I made with all of our data.\n",
    "\n",
    "\"TSV\" means tab-separated values. It's a very simple way to store data:\n",
    "One line per person, with each piece of information separated from the next\n",
    "by a tab."
   ]
  },
  {
   "cell_type": "code",
   "execution_count": 3,
   "metadata": {},
   "outputs": [],
   "source": [
    "# Load the data into a pandas \"dataframe\". That's just a nice type of \n",
    "# data structure for working with datas like this.\n",
    "# Unimaginatively, I'm going to call my dataframe \"df\".\n",
    "\n",
    "df = pd.read_csv('campfire_stats.tsv', \n",
    "                 sep='\\t')   # this means that \\t (tab) separates the fields on each line"
   ]
  },
  {
   "cell_type": "markdown",
   "metadata": {},
   "source": [
    "## Get some very basic information about the data\n",
    "\n",
    "OK, I loaded it. What's it look like? "
   ]
  },
  {
   "cell_type": "code",
   "execution_count": 4,
   "metadata": {},
   "outputs": [
    {
     "data": {
      "text/html": [
       "<div>\n",
       "<style scoped>\n",
       "    .dataframe tbody tr th:only-of-type {\n",
       "        vertical-align: middle;\n",
       "    }\n",
       "\n",
       "    .dataframe tbody tr th {\n",
       "        vertical-align: top;\n",
       "    }\n",
       "\n",
       "    .dataframe thead th {\n",
       "        text-align: right;\n",
       "    }\n",
       "</style>\n",
       "<table border=\"1\" class=\"dataframe\">\n",
       "  <thead>\n",
       "    <tr style=\"text-align: right;\">\n",
       "      <th></th>\n",
       "      <th>breath</th>\n",
       "      <th>legs</th>\n",
       "      <th>arms</th>\n",
       "      <th>smell</th>\n",
       "      <th>jump</th>\n",
       "      <th>run</th>\n",
       "      <th>weight</th>\n",
       "      <th>sleep</th>\n",
       "    </tr>\n",
       "  </thead>\n",
       "  <tbody>\n",
       "    <tr>\n",
       "      <th>0</th>\n",
       "      <td>NaN</td>\n",
       "      <td>NaN</td>\n",
       "      <td>45.0</td>\n",
       "      <td>11.0</td>\n",
       "      <td>63.00</td>\n",
       "      <td>2.3</td>\n",
       "      <td>53.5</td>\n",
       "      <td>10.0</td>\n",
       "    </tr>\n",
       "    <tr>\n",
       "      <th>1</th>\n",
       "      <td>60.0</td>\n",
       "      <td>NaN</td>\n",
       "      <td>NaN</td>\n",
       "      <td>NaN</td>\n",
       "      <td>NaN</td>\n",
       "      <td>NaN</td>\n",
       "      <td>67.2</td>\n",
       "      <td>NaN</td>\n",
       "    </tr>\n",
       "    <tr>\n",
       "      <th>2</th>\n",
       "      <td>NaN</td>\n",
       "      <td>NaN</td>\n",
       "      <td>41.0</td>\n",
       "      <td>NaN</td>\n",
       "      <td>NaN</td>\n",
       "      <td>2.7</td>\n",
       "      <td>38.2</td>\n",
       "      <td>NaN</td>\n",
       "    </tr>\n",
       "    <tr>\n",
       "      <th>3</th>\n",
       "      <td>30.0</td>\n",
       "      <td>28.0</td>\n",
       "      <td>48.0</td>\n",
       "      <td>6.0</td>\n",
       "      <td>56.00</td>\n",
       "      <td>2.9</td>\n",
       "      <td>48.0</td>\n",
       "      <td>10.0</td>\n",
       "    </tr>\n",
       "    <tr>\n",
       "      <th>4</th>\n",
       "      <td>30.0</td>\n",
       "      <td>34.5</td>\n",
       "      <td>62.0</td>\n",
       "      <td>7.0</td>\n",
       "      <td>62.25</td>\n",
       "      <td>2.6</td>\n",
       "      <td>89.0</td>\n",
       "      <td>10.0</td>\n",
       "    </tr>\n",
       "    <tr>\n",
       "      <th>5</th>\n",
       "      <td>36.0</td>\n",
       "      <td>32.0</td>\n",
       "      <td>58.0</td>\n",
       "      <td>24.0</td>\n",
       "      <td>59.00</td>\n",
       "      <td>2.5</td>\n",
       "      <td>80.0</td>\n",
       "      <td>10.0</td>\n",
       "    </tr>\n",
       "    <tr>\n",
       "      <th>6</th>\n",
       "      <td>43.0</td>\n",
       "      <td>29.5</td>\n",
       "      <td>48.0</td>\n",
       "      <td>24.0</td>\n",
       "      <td>52.00</td>\n",
       "      <td>2.1</td>\n",
       "      <td>72.6</td>\n",
       "      <td>7.0</td>\n",
       "    </tr>\n",
       "    <tr>\n",
       "      <th>7</th>\n",
       "      <td>70.0</td>\n",
       "      <td>38.5</td>\n",
       "      <td>NaN</td>\n",
       "      <td>NaN</td>\n",
       "      <td>NaN</td>\n",
       "      <td>2.7</td>\n",
       "      <td>122.4</td>\n",
       "      <td>NaN</td>\n",
       "    </tr>\n",
       "    <tr>\n",
       "      <th>8</th>\n",
       "      <td>60.0</td>\n",
       "      <td>31.0</td>\n",
       "      <td>51.0</td>\n",
       "      <td>60.0</td>\n",
       "      <td>55.00</td>\n",
       "      <td>2.8</td>\n",
       "      <td>67.0</td>\n",
       "      <td>10.0</td>\n",
       "    </tr>\n",
       "    <tr>\n",
       "      <th>9</th>\n",
       "      <td>21.0</td>\n",
       "      <td>34.0</td>\n",
       "      <td>61.0</td>\n",
       "      <td>7.0</td>\n",
       "      <td>66.00</td>\n",
       "      <td>2.6</td>\n",
       "      <td>79.6</td>\n",
       "      <td>NaN</td>\n",
       "    </tr>\n",
       "    <tr>\n",
       "      <th>10</th>\n",
       "      <td>18.0</td>\n",
       "      <td>32.0</td>\n",
       "      <td>52.0</td>\n",
       "      <td>4.0</td>\n",
       "      <td>63.00</td>\n",
       "      <td>2.3</td>\n",
       "      <td>66.4</td>\n",
       "      <td>10.5</td>\n",
       "    </tr>\n",
       "    <tr>\n",
       "      <th>11</th>\n",
       "      <td>40.0</td>\n",
       "      <td>25.0</td>\n",
       "      <td>51.0</td>\n",
       "      <td>6.0</td>\n",
       "      <td>60.50</td>\n",
       "      <td>2.7</td>\n",
       "      <td>50.0</td>\n",
       "      <td>10.0</td>\n",
       "    </tr>\n",
       "    <tr>\n",
       "      <th>12</th>\n",
       "      <td>41.0</td>\n",
       "      <td>20.0</td>\n",
       "      <td>28.0</td>\n",
       "      <td>13.0</td>\n",
       "      <td>60.00</td>\n",
       "      <td>2.8</td>\n",
       "      <td>48.2</td>\n",
       "      <td>10.0</td>\n",
       "    </tr>\n",
       "  </tbody>\n",
       "</table>\n",
       "</div>"
      ],
      "text/plain": [
       "    breath  legs  arms  smell   jump  run  weight  sleep\n",
       "0      NaN   NaN  45.0   11.0  63.00  2.3    53.5   10.0\n",
       "1     60.0   NaN   NaN    NaN    NaN  NaN    67.2    NaN\n",
       "2      NaN   NaN  41.0    NaN    NaN  2.7    38.2    NaN\n",
       "3     30.0  28.0  48.0    6.0  56.00  2.9    48.0   10.0\n",
       "4     30.0  34.5  62.0    7.0  62.25  2.6    89.0   10.0\n",
       "5     36.0  32.0  58.0   24.0  59.00  2.5    80.0   10.0\n",
       "6     43.0  29.5  48.0   24.0  52.00  2.1    72.6    7.0\n",
       "7     70.0  38.5   NaN    NaN    NaN  2.7   122.4    NaN\n",
       "8     60.0  31.0  51.0   60.0  55.00  2.8    67.0   10.0\n",
       "9     21.0  34.0  61.0    7.0  66.00  2.6    79.6    NaN\n",
       "10    18.0  32.0  52.0    4.0  63.00  2.3    66.4   10.5\n",
       "11    40.0  25.0  51.0    6.0  60.50  2.7    50.0   10.0\n",
       "12    41.0  20.0  28.0   13.0  60.00  2.8    48.2   10.0"
      ]
     },
     "execution_count": 4,
     "metadata": {},
     "output_type": "execute_result"
    }
   ],
   "source": [
    "# because the last line of this cell has a value (the data frame),\n",
    "# the result of the cell will display the value. And the notebook\n",
    "# knows how to display a data frame in a pretty way.\n",
    "df"
   ]
  },
  {
   "cell_type": "markdown",
   "metadata": {},
   "source": [
    "Hey, what are all those \"NaN\" values? Those are missing values. Some kids didn't do everything. Let's investigate that.\n",
    "\n",
    "Each thing we measured (e.g., breath) is called a \"column\" in the dataframe. How many values do we have for each column?"
   ]
  },
  {
   "cell_type": "code",
   "execution_count": 5,
   "metadata": {},
   "outputs": [
    {
     "data": {
      "text/plain": [
       "<matplotlib.axes._subplots.AxesSubplot at 0x1a18476588>"
      ]
     },
     "execution_count": 5,
     "metadata": {},
     "output_type": "execute_result"
    },
    {
     "data": {
      "image/png": "[encoded data removed]",
      "text/plain": [
       "<Figure size 432x288 with 1 Axes>"
      ]
     },
     "metadata": {
      "needs_background": "light"
     },
     "output_type": "display_data"
    }
   ],
   "source": [
    "# Run a for loop over all the columns. For each column, count up the non-missing values.\n",
    "# Store the results in value_counts\n",
    "value_counts = [len(df[df[column].notnull()])\n",
    "                for column in df.columns]\n",
    "\n",
    "sns.barplot(x=df.columns, y=value_counts)"
   ]
  },
  {
   "cell_type": "markdown",
   "metadata": {},
   "source": [
    "Huh! All 13 kids recorded their weight, and all but one person recorded their running speed. \n",
    "\n",
    "But only 9 of 13 people recorded their sleep. Why? Are they ashamed of how much they sleep? Did they have trouble doing the math to figure it out? We may never know.\n",
    "\n",
    "Let's see how many of the fields each individual person filled out. I'll use a histogram, which just stacks up the number of people who filled out each number of fields.\n"
   ]
  },
  {
   "cell_type": "code",
   "execution_count": 6,
   "metadata": {},
   "outputs": [
    {
     "data": {
      "text/plain": [
       "Text(0,0.5,'Number of kids')"
      ]
     },
     "execution_count": 6,
     "metadata": {},
     "output_type": "execute_result"
    },
    {
     "data": {
      "image/png": "[encoded data removed]",
      "text/plain": [
       "<Figure size 432x288 with 1 Axes>"
      ]
     },
     "metadata": {
      "needs_background": "light"
     },
     "output_type": "display_data"
    }
   ],
   "source": [
    "# create an empty list for the counts of fields. \n",
    "field_counts = []\n",
    "# Fill the list using a for loop over all the rows (people)\n",
    "for _, row in df.iterrows():\n",
    "    # append the number of non-missing values for this row\n",
    "    field_counts.append(sum(row.notnull())) \n",
    "\n",
    "# make an empty plot\n",
    "f, ax = plt.subplots()\n",
    "# plot a histogram of the numbers of non-missing values\n",
    "sns.distplot(field_counts, \n",
    "             kde=False, \n",
    "             bins=max(field_counts),\n",
    "             ax=ax)  # put it on the plot I created above\n",
    "ax.set_xlabel(\"Fields filled out\")\n",
    "ax.set_ylabel(\"Number of kids\")"
   ]
  },
  {
   "cell_type": "markdown",
   "metadata": {},
   "source": [
    "So, 8 kids filled out all 8 fields, and the rest filled out fewer... as few as two fields!\n",
    "\n",
    "## Let's start playing with the data\n",
    "\n",
    "Now, for each column, I'll make a histogram, and I'll see what I think about the distribution of values in the column."
   ]
  },
  {
   "cell_type": "code",
   "execution_count": 21,
   "metadata": {},
   "outputs": [],
   "source": [
    "# let's define a method to plot a column, to save us typing later.\n",
    "# And, what the heck, let's have it print out the range, mean and median, too.\n",
    "\n",
    "def hist_column(column, animal=None, animal_val=None):\n",
    "    \"\"\"\n",
    "    This method will plot a histogram for one column.\n",
    "    Second and third arguments are used for drawing a line for the animal comparison (later)\n",
    "    \"\"\"\n",
    "    \n",
    "    # make an empty plot\n",
    "    f, ax = plt.subplots()\n",
    "    # plot a histogram of the non-missing values\n",
    "    values_to_plot = df[df[column].notnull()][column]\n",
    "    sns.distplot(values_to_plot,\n",
    "                ax=ax, kde=False, bins=10)\n",
    "    # plot a line representing the animal's value\n",
    "    if animal and animal_val:\n",
    "        sns.lineplot((animal_val, animal_val), (0,1),\n",
    "                    dashes=True)\n",
    "        ax.set_title(f\"line: {animal}, {animal_val:.1f}\")\n",
    "    print(f\"{column}: range={min(values_to_plot)}-{max(values_to_plot)}, mean={np.mean(values_to_plot):.2f}, median={np.median(values_to_plot)}\")\n",
    "    "
   ]
  },
  {
   "cell_type": "code",
   "execution_count": 8,
   "metadata": {},
   "outputs": [
    {
     "name": "stdout",
     "output_type": "stream",
     "text": [
      "breath: range=18.0-70.0, mean=40.82, median=40.0\n"
     ]
    },
    {
     "data": {
      "image/png": "[encoded data removed]",
      "text/plain": [
       "<Figure size 432x288 with 1 Axes>"
      ]
     },
     "metadata": {
      "needs_background": "light"
     },
     "output_type": "display_data"
    }
   ],
   "source": [
    "hist_column(\"breath\")\n"
   ]
  },
  {
   "cell_type": "markdown",
   "metadata": {},
   "source": [
    "Wow! We have a huge range of amounts of time that people can hold their breath, from 20 to 70 seconds! Huh, already I have a hypothesis I want to test.\n",
    "\n",
    "**Hypothesis: older kids can hold their breath longer.**\n",
    "\n",
    "But I don't know how old each kid is! Hmm, but I've got their arm span. That's strongly correlated with height, and height and age are pretty strongly correlated. So, revised hypothesis.\n",
    "\n",
    "**Hypothesis: kids with longer arm spans can hold their breath longer.**\n",
    "\n",
    "So, what's our distribution of arm spans?"
   ]
  },
  {
   "cell_type": "code",
   "execution_count": 9,
   "metadata": {},
   "outputs": [
    {
     "name": "stdout",
     "output_type": "stream",
     "text": [
      "arms: range=28.0-62.0, mean=49.55, median=51.0\n"
     ]
    },
    {
     "data": {
      "text/plain": [
       "<matplotlib.axes._subplots.AxesSubplot at 0x1a18a697b8>"
      ]
     },
     "execution_count": 9,
     "metadata": {},
     "output_type": "execute_result"
    },
    {
     "data": {
      "image/png": "[encoded data removed]",
      "text/plain": [
       "<Figure size 432x288 with 1 Axes>"
      ]
     },
     "metadata": {
      "needs_background": "light"
     },
     "output_type": "display_data"
    },
    {
     "data": {
      "image/png": "[encoded data removed]",
      "text/plain": [
       "<Figure size 432x288 with 1 Axes>"
      ]
     },
     "metadata": {
      "needs_background": "light"
     },
     "output_type": "display_data"
    }
   ],
   "source": [
    "hist_column(\"arms\")\n",
    "\n",
    "# OK, let's scatter plot arm span vs. breath\n",
    "\n",
    "f, ax = plt.subplots()\n",
    "sns.scatterplot(\"arms\", \"breath\",\n",
    "               data=df, ax=ax)"
   ]
  },
  {
   "cell_type": "markdown",
   "metadata": {},
   "source": [
    "Oho! Look at that! It doesn't look to me like there's a close relationship between arm span and breath. Bear in mind that not everyone with a breath measurement has an arm measurement, too, and vice versa.\n",
    "\n",
    "Hmm, I should probably do a statistical test to see if those values are correlated. Heck, let's just look for pairwise correlations between all our columns."
   ]
  },
  {
   "cell_type": "code",
   "execution_count": 10,
   "metadata": {},
   "outputs": [
    {
     "data": {
      "image/png": "[encoded data removed]",
      "text/plain": [
       "<Figure size 432x288 with 2 Axes>"
      ]
     },
     "metadata": {
      "needs_background": "light"
     },
     "output_type": "display_data"
    }
   ],
   "source": [
    "ax = sns.heatmap(\n",
    "    df.corr(), \n",
    "    vmin=-1, vmax=1, center=0,\n",
    "    cmap=sns.diverging_palette(20, 220, n=200),\n",
    "    square=True\n",
    ")\n",
    "ax.set_xticklabels(\n",
    "    ax.get_xticklabels(),\n",
    "    rotation=45,\n",
    "    horizontalalignment='right'\n",
    ");"
   ]
  },
  {
   "cell_type": "markdown",
   "metadata": {},
   "source": [
    "Each box represents the correlation between two different columns. Darker blue means more-positive correlation, darker red means more-negative correlation.\n",
    "\n",
    "So! Leg and arm length and weight are all highly positively correlated. That's good, they should be. \n",
    "\n",
    "Jumping distance is *negatively* correlated with breath-holding. Huh? The farther you can jump, the less time you can hold your breath? Let's look at that with dots.\n",
    "\n"
   ]
  },
  {
   "cell_type": "code",
   "execution_count": 11,
   "metadata": {},
   "outputs": [
    {
     "data": {
      "text/plain": [
       "<matplotlib.axes._subplots.AxesSubplot at 0x1a18b13240>"
      ]
     },
     "execution_count": 11,
     "metadata": {},
     "output_type": "execute_result"
    },
    {
     "data": {
      "image/png": "[encoded data removed]",
      "text/plain": [
       "<Figure size 432x288 with 1 Axes>"
      ]
     },
     "metadata": {
      "needs_background": "light"
     },
     "output_type": "display_data"
    }
   ],
   "source": [
    "f, ax = plt.subplots()\n",
    "sns.scatterplot(\"jump\", \"breath\",\n",
    "               data=df, ax=ax)"
   ]
  },
  {
   "cell_type": "markdown",
   "metadata": {},
   "source": [
    "Wow, that's... fairly convincing. Like, those two quantities really look like they're negatively correlated, to me. And yet I have a strong prior belief that, if anything, jumping distance and breath-holding should be positively correlated. So, if this were something I discovered in some scientific data, I'd be really itching to find some other datasets and see if it held up, about now. I'm guessing the effect would go away.\n",
    "\n",
    "And (back to the correlation heatmap, now) breath-holding is strongly correlated with the distance at which you can smell cinnamon? Well, at least both of those things are, I guess, breath-related.\n",
    "\n",
    "But I think we can probably dismiss those observations as artifacts. Not real. We're measuring relatively few people, so we're getting effects that look real but probably aren't. I could do some tests to look for that, but that is BEYOND MY SCOPE HERE.\n",
    "\n",
    "### Oh but I got distracted!\n",
    "\n",
    "I was looking for a relationship between arm span and breath-holding. And I got one... weakly negative. Weird! Hypothesis not supported.\n",
    "\n",
    "### OK fine let's look at everything else\n",
    "\n",
    "I histogrammed arms and breath... what about the rest?"
   ]
  },
  {
   "cell_type": "code",
   "execution_count": 22,
   "metadata": {},
   "outputs": [
    {
     "name": "stdout",
     "output_type": "stream",
     "text": [
      "legs: range=20.0-38.5, mean=30.45, median=31.5\n",
      "smell: range=4.0-60.0, mean=16.20, median=9.0\n",
      "jump: range=52.0-66.0, mean=59.67, median=60.25\n",
      "run: range=2.1-2.9, mean=2.58, median=2.6500000000000004\n",
      "weight: range=38.2-122.4, mean=67.85, median=67.0\n",
      "sleep: range=7.0-10.5, mean=9.72, median=10.0\n"
     ]
    },
    {
     "data": {
      "image/png": "[encoded data removed]",
      "text/plain": [
       "<Figure size 432x288 with 1 Axes>"
      ]
     },
     "metadata": {
      "needs_background": "light"
     },
     "output_type": "display_data"
    },
    {
     "data": {
      "image/png": "[encoded data removed]",
      "text/plain": [
       "<Figure size 432x288 with 1 Axes>"
      ]
     },
     "metadata": {
      "needs_background": "light"
     },
     "output_type": "display_data"
    },
    {
     "data": {
      "image/png": "[encoded data removed]",
      "text/plain": [
       "<Figure size 432x288 with 1 Axes>"
      ]
     },
     "metadata": {
      "needs_background": "light"
     },
     "output_type": "display_data"
    },
    {
     "data": {
      "image/png": "[encoded data removed]",
      "text/plain": [
       "<Figure size 432x288 with 1 Axes>"
      ]
     },
     "metadata": {
      "needs_background": "light"
     },
     "output_type": "display_data"
    },
    {
     "data": {
      "image/png": "[encoded data removed]",
      "text/plain": [
       "<Figure size 432x288 with 1 Axes>"
      ]
     },
     "metadata": {
      "needs_background": "light"
     },
     "output_type": "display_data"
    },
    {
     "data": {
      "image/png": "[encoded data removed]",
      "text/plain": [
       "<Figure size 432x288 with 1 Axes>"
      ]
     },
     "metadata": {
      "needs_background": "light"
     },
     "output_type": "display_data"
    }
   ],
   "source": [
    "for column in df.columns:\n",
    "    if column not in ['arms', 'breath']:\n",
    "        hist_column(column)"
   ]
  },
  {
   "cell_type": "markdown",
   "metadata": {},
   "source": [
    "OK, so a few observations:\n",
    "    \n",
    "* everyone sleeps 10+ hours... except one person who sleeps 7! Wow! \n",
    "    * I mean, what do they do with all that time? Probably awesome stuff.\n",
    "* most people claim to be able to smell the cinnamon at a distance somewhere under 2 feet\n",
    "    * but one person can smell it at *5 feet?!* \n",
    "    * I'm not gonna say they're making it up, but... the sheet actually says 5 feet; maybe they meant 5 inches?"
   ]
  },
  {
   "cell_type": "markdown",
   "metadata": {},
   "source": [
    "## Animal comparison\n",
    "\n",
    "Finally, each question the kids were asked compared them against an animal. I'll manually enter the values for each animal. Then I'll plot the same histograms as before, but with a vertical orange line where the value for the relevant animal goes."
   ]
  },
  {
   "cell_type": "code",
   "execution_count": 23,
   "metadata": {},
   "outputs": [
    {
     "name": "stderr",
     "output_type": "stream",
     "text": [
      "/anaconda3/lib/python3.7/site-packages/scipy/stats/stats.py:1713: FutureWarning: Using a non-tuple sequence for multidimensional indexing is deprecated; use `arr[tuple(seq)]` instead of `arr[seq]`. In the future this will be interpreted as an array index, `arr[np.array(seq)]`, which will result either in an error or a different result.\n",
      "  return np.add.reduce(sorted[indexer] * weights, axis=axis) / sumval\n"
     ]
    },
    {
     "name": "stdout",
     "output_type": "stream",
     "text": [
      "breath: range=18.0-70.0, mean=40.82, median=40.0\n",
      "legs: range=20.0-38.5, mean=30.45, median=31.5\n",
      "arms: range=28.0-62.0, mean=49.55, median=51.0\n",
      "smell: range=4.0-60.0, mean=16.20, median=9.0\n",
      "jump: range=52.0-66.0, mean=59.67, median=60.25\n",
      "run: range=2.1-2.9, mean=2.58, median=2.6500000000000004\n",
      "weight: range=38.2-122.4, mean=67.85, median=67.0\n",
      "sleep: range=7.0-10.5, mean=9.72, median=10.0\n"
     ]
    },
    {
     "data": {
      "image/png": "[encoded data removed]",
      "text/plain": [
       "<Figure size 432x288 with 1 Axes>"
      ]
     },
     "metadata": {
      "needs_background": "light"
     },
     "output_type": "display_data"
    },
    {
     "data": {
      "image/png": "[encoded data removed]",
      "text/plain": [
       "<Figure size 432x288 with 1 Axes>"
      ]
     },
     "metadata": {
      "needs_background": "light"
     },
     "output_type": "display_data"
    },
    {
     "data": {
      "image/png": "[encoded data removed]",
      "text/plain": [
       "<Figure size 432x288 with 1 Axes>"
      ]
     },
     "metadata": {
      "needs_background": "light"
     },
     "output_type": "display_data"
    },
    {
     "data": {
      "image/png": "[encoded data removed]",
      "text/plain": [
       "<Figure size 432x288 with 1 Axes>"
      ]
     },
     "metadata": {
      "needs_background": "light"
     },
     "output_type": "display_data"
    },
    {
     "data": {
      "image/png": "[encoded data removed]",
      "text/plain": [
       "<Figure size 432x288 with 1 Axes>"
      ]
     },
     "metadata": {
      "needs_background": "light"
     },
     "output_type": "display_data"
    },
    {
     "data": {
      "image/png": "[encoded data removed]",
      "text/plain": [
       "<Figure size 432x288 with 1 Axes>"
      ]
     },
     "metadata": {
      "needs_background": "light"
     },
     "output_type": "display_data"
    },
    {
     "data": {
      "image/png": "[encoded data removed]",
      "text/plain": [
       "<Figure size 432x288 with 1 Axes>"
      ]
     },
     "metadata": {
      "needs_background": "light"
     },
     "output_type": "display_data"
    },
    {
     "data": {
      "image/png": "[encoded data removed]",
      "text/plain": [
       "<Figure size 432x288 with 1 Axes>"
      ]
     },
     "metadata": {
      "needs_background": "light"
     },
     "output_type": "display_data"
    }
   ],
   "source": [
    "column_animalandvalue_map = {\n",
    "    \"breath\": (\"dolphin\", 9*60),\n",
    "    \"legs\": (\"giraffe\", 6*12),\n",
    "    \"arms\": (\"gorilla\", 8.5*12),\n",
    "    \"smell\": (\"bear\", 20 * 12 * 5280), # 20 miles in inches\n",
    "    \"jump\": (\"kangaroo\", 30*12),\n",
    "    \"run\": (\"cheetah\", 1.0),\n",
    "    \"weight\": (\"blue whale\", 220000),\n",
    "    \"sleep\": (\"sloth\", 16.5),\n",
    "}\n",
    "\n",
    "for column in df.columns:\n",
    "    # grab the animal name and statistic value for each statistic\n",
    "    animal, value = column_animalandvalue_map[column]\n",
    "    hist_column(column, animal, value)\n",
    "    \n",
    "    "
   ]
  },
  {
   "cell_type": "markdown",
   "metadata": {},
   "source": [
    "What conclusions can we draw from those plots? I draw a few:\n",
    "\n",
    "* Wow, animals that have evolved to do things well sure do them well!\n",
    "* Humans, not so much.\n",
    "    * though I notice that \"how many books can you read in a month\" wasn't one of the questions.\n",
    "* Something weird happens to my histograms when the animal value is waaaaaay higher than all the human values. \n",
    "    * I think they get so skinny that they disappear.\n",
    "\n",
    "\n",
    "## In Summary\n",
    "\n",
    "Well! We've got a lot of missing data, some probably-not-real correlations, and a few really interesting distributions -- that sleep distribution is nuts. \n",
    "\n",
    "Well, that was fun!"
   ]
  },
  {
   "cell_type": "code",
   "execution_count": null,
   "metadata": {},
   "outputs": [],
   "source": []
  }
 ],
 "metadata": {
  "kernelspec": {
   "display_name": "Python 3",
   "language": "python",
   "name": "python3"
  },
  "language_info": {
   "codemirror_mode": {
    "name": "ipython",
    "version": 3
   },
   "file_extension": ".py",
   "mimetype": "text/x-python",
   "name": "python",
   "nbconvert_exporter": "python",
   "pygments_lexer": "ipython3",
   "version": "3.7.0"
  }
 },
 "nbformat": 4,
 "nbformat_minor": 2
}
