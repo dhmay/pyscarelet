{
 "cells": [
  {
   "cell_type": "markdown",
   "metadata": {},
   "source": [
    "Let's have some fun with Turtle"
   ]
  },
  {
   "cell_type": "code",
   "execution_count": 1,
   "metadata": {},
   "outputs": [],
   "source": [
    "# import stuff\n",
    "import ipyturtle\n",
    "from ipyturtle import Turtle\n",
    "import random"
   ]
  },
  {
   "cell_type": "code",
   "execution_count": 2,
   "metadata": {},
   "outputs": [],
   "source": [
    "def draw_star(t, line_length=50):\n",
    "    \"\"\"\n",
    "    This method will draw a 5-pointed star with each line of length line_length\n",
    "    \"\"\"\n",
    "    # repeat 5 times, once for each line\n",
    "    for i in range(5):\n",
    "        # move forward along one line\n",
    "        t.forward(line_length)\n",
    "        # turn right 144 degrees\n",
    "        t.right(144)"
   ]
  },
  {
   "cell_type": "code",
   "execution_count": 3,
   "metadata": {},
   "outputs": [
    {
     "data": {
      "application/vnd.jupyter.widget-view+json": {
       "model_id": "e8072694bdc347b1b4401e9e5b4c067f",
       "version_major": 2,
       "version_minor": 0
      },
      "text/plain": [
       "Turtle()"
      ]
     },
     "metadata": {},
     "output_type": "display_data"
    }
   ],
   "source": [
    "# make a new Turtle object.\n",
    "# Leaving the last line of this cell as 't' will draw the turtle box\n",
    "t = Turtle()\n",
    "t"
   ]
  },
  {
   "cell_type": "code",
   "execution_count": 4,
   "metadata": {},
   "outputs": [],
   "source": [
    "# define a list of colors to use\n",
    "colors = ['red', 'blue', 'green', 'yellow', 'purple']\n",
    "\n",
    "# draw 50 stars\n",
    "for _ in range(50):\n",
    "    # \"penup\" means don't draw a line until we put the pen down again\n",
    "    t.penup()\n",
    "    # move to 0,0, which is the center\n",
    "    t._turtle_location_x = 0\n",
    "    t._turtle_location_y = 0\n",
    "    # turn in a random direction\n",
    "    t.right(random.choice(range(360)))\n",
    "    # move a random distance between 30 and 150\n",
    "    t.forward(random.choice(range(30, 150)))\n",
    "    # put the pen down\n",
    "    t.pendown()\n",
    "    # choose a random color\n",
    "    t.pencolor(random.choice(colors))\n",
    "    # draw a star with a random size from 10 to 60\n",
    "    draw_star(t, line_length=random.choice(range(10,60)))\n"
   ]
  },
  {
   "cell_type": "code",
   "execution_count": 5,
   "metadata": {},
   "outputs": [],
   "source": [
    "#Turtle.close_all()"
   ]
  },
  {
   "cell_type": "code",
   "execution_count": null,
   "metadata": {},
   "outputs": [],
   "source": []
  }
 ],
 "metadata": {
  "kernelspec": {
   "display_name": "Python 3",
   "language": "python",
   "name": "python3"
  },
  "language_info": {
   "codemirror_mode": {
    "name": "ipython",
    "version": 3
   },
   "file_extension": ".py",
   "mimetype": "text/x-python",
   "name": "python",
   "nbconvert_exporter": "python",
   "pygments_lexer": "ipython3",
   "version": "3.7.0"
  }
 },
 "nbformat": 4,
 "nbformat_minor": 2
}
