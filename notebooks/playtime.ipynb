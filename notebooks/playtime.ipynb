{
 "cells": [
  {
   "cell_type": "markdown",
   "metadata": {},
   "source": [
    "I wish I could write a really long sentence. Like... really long. Maybe Python can do it for me."
   ]
  },
  {
   "cell_type": "code",
   "execution_count": 1,
   "metadata": {},
   "outputs": [
    {
     "name": "stdout",
     "output_type": "stream",
     "text": [
      "I wish I could write a  really long sentence.\n",
      "I wish I could write a really, really long sentence.\n",
      "I wish I could write a really, really, really long sentence.\n",
      "I wish I could write a really, really, really, really long sentence.\n",
      "I wish I could write a really, really, really, really, really long sentence.\n",
      "I wish I could write a really, really, really, really, really, really long sentence.\n",
      "I wish I could write a really, really, really, really, really, really, really long sentence.\n",
      "I wish I could write a really, really, really, really, really, really, really, really long sentence.\n",
      "I wish I could write a really, really, really, really, really, really, really, really, really long sentence.\n",
      "I wish I could write a really, really, really, really, really, really, really, really, really, really long sentence.\n"
     ]
    }
   ],
   "source": [
    "# the time library has a bunch of utilities related to time.\n",
    "# the one I'm going to use just waits for a certain number of seconds\n",
    "import time\n",
    "\n",
    "# this constant will be the number of times I run the main loop\n",
    "N_ITERATIONS = 10\n",
    "\n",
    "# loop N_ITERATIONS times\n",
    "# n_reallys_with_commas is a loop variable that counts up from 0 to N_ITERATIONS.\n",
    "# So, it starts at 0, and on each iteration it grows by one. That's what \"range\" does.\n",
    "# You don't have to start at 0. If you specify two arguments, it'll start at the first\n",
    "# and end before the second.\n",
    "for n_reallys_with_commas in range(N_ITERATIONS):\n",
    "    # reallys_list will hold a number of instances of 'really, ' equal to n_reallys_with_commas\n",
    "    reallys_list = ['really,'] * n_reallys_with_commas\n",
    "    # reallys_string just collapses all those 'really's into a string, separated by spaces\n",
    "    reallys_string = ' '.join(reallys_list)\n",
    "    # print out the sentence, with the appropriate number of reallys\n",
    "    print(f\"I wish I could write a {reallys_string} really long sentence.\")\n",
    "    # wait a second\n",
    "    time.sleep(1)"
   ]
  },
  {
   "cell_type": "code",
   "execution_count": null,
   "metadata": {},
   "outputs": [],
   "source": []
  }
 ],
 "metadata": {
  "kernelspec": {
   "display_name": "Python 3",
   "language": "python",
   "name": "python3"
  },
  "language_info": {
   "codemirror_mode": {
    "name": "ipython",
    "version": 3
   },
   "file_extension": ".py",
   "mimetype": "text/x-python",
   "name": "python",
   "nbconvert_exporter": "python",
   "pygments_lexer": "ipython3",
   "version": "3.7.0"
  }
 },
 "nbformat": 4,
 "nbformat_minor": 2
}
