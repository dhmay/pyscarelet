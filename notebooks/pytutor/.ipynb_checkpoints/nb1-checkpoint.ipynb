{
 "cells": [
  {
   "cell_type": "markdown",
   "metadata": {},
   "source": [
    "# Notebook 1\n",
    "\n",
    "I can't really teach you Python. I'm not a teacher. But you're a smart kid, and you can learn by *putting things together* on your own. \n",
    "\n",
    "I've asked you to do some things, below, combining things that I'm showing you. When I ask you to do something, do it in the next cell below. You can check your output against the cell below *that*.\n",
    "\n",
    "When you're done, go to the \"File\" menu and select \"Download As\" and then \"Notebook (.ipynb)\". Save the file and email or slack it to me.\n",
    "\n",
    "OK, let's try this.\n",
    "\n",
    "## Variables\n",
    "\n",
    "To assign a value to a variable, you do something like this:"
   ]
  },
  {
   "cell_type": "code",
   "execution_count": 1,
   "metadata": {},
   "outputs": [],
   "source": [
    "counter = 0"
   ]
  },
  {
   "cell_type": "markdown",
   "metadata": {},
   "source": [
    "I assigned the value *0* to the variable *counter*. To check that *counter* got that value, I can leave it as the last line of a cell. For instance:"
   ]
  },
  {
   "cell_type": "code",
   "execution_count": 3,
   "metadata": {},
   "outputs": [
    {
     "data": {
      "text/plain": [
       "0"
      ]
     },
     "execution_count": 3,
     "metadata": {},
     "output_type": "execute_result"
    }
   ],
   "source": [
    "# it doesn't matter\n",
    "# what I put here. By the way, lines that begin with # are comments.\n",
    "3\n",
    "7\n",
    "8\n",
    "# see? None of that matters. But now:\n",
    "counter"
   ]
  },
  {
   "cell_type": "markdown",
   "metadata": {},
   "source": [
    "And *voila!* counter is 0.\n",
    "\n",
    "You can assign *strings* to variables, not just integers. By *strings* I mean blocks of text. You define a string with \"\" or '' characters (either one is fine). Like this:"
   ]
  },
  {
   "cell_type": "code",
   "execution_count": 5,
   "metadata": {},
   "outputs": [
    {
     "data": {
      "text/plain": [
       "'hello!'"
      ]
     },
     "execution_count": 5,
     "metadata": {},
     "output_type": "execute_result"
    }
   ],
   "source": [
    "mystring = \"hello!\"\n",
    "\n",
    "mystring"
   ]
  },
  {
   "cell_type": "markdown",
   "metadata": {},
   "source": [
    "Because the notebook will show you the last value you type in a cell, you can use it to do math for you. For example:"
   ]
  },
  {
   "cell_type": "code",
   "execution_count": 6,
   "metadata": {},
   "outputs": [
    {
     "data": {
      "text/plain": [
       "43"
      ]
     },
     "execution_count": 6,
     "metadata": {},
     "output_type": "execute_result"
    }
   ],
   "source": [
    "12*3+7"
   ]
  },
  {
   "cell_type": "markdown",
   "metadata": {},
   "source": [
    "And you can assign variables to the results of expressions like `12*3+7`\n",
    "\n",
    "Now, remember how variables can be strings or ints (integers)? (and they can be other things to... more on that later) Well, when you add two integers you get the sum. When you add two strings:"
   ]
  },
  {
   "cell_type": "code",
   "execution_count": 8,
   "metadata": {},
   "outputs": [
    {
     "data": {
      "text/plain": [
       "'hi there'"
      ]
     },
     "execution_count": 8,
     "metadata": {},
     "output_type": "execute_result"
    }
   ],
   "source": [
    "\"hi\" + \" there\""
   ]
  },
  {
   "cell_type": "markdown",
   "metadata": {},
   "source": [
    "But you can't add an integer and a string:"
   ]
  },
  {
   "cell_type": "code",
   "execution_count": 9,
   "metadata": {},
   "outputs": [
    {
     "ename": "TypeError",
     "evalue": "can only concatenate str (not \"int\") to str",
     "output_type": "error",
     "traceback": [
      "\u001b[0;31m---------------------------------------------------------------------------\u001b[0m",
      "\u001b[0;31mTypeError\u001b[0m                                 Traceback (most recent call last)",
      "\u001b[0;32m<ipython-input-9-29d43b3aeeec>\u001b[0m in \u001b[0;36m<module>\u001b[0;34m()\u001b[0m\n\u001b[0;32m----> 1\u001b[0;31m \u001b[0;34m\"hi\"\u001b[0m \u001b[0;34m+\u001b[0m \u001b[0;36m3\u001b[0m\u001b[0;34m\u001b[0m\u001b[0m\n\u001b[0m",
      "\u001b[0;31mTypeError\u001b[0m: can only concatenate str (not \"int\") to str"
     ]
    }
   ],
   "source": [
    "\"hi\" + 3"
   ]
  },
  {
   "cell_type": "markdown",
   "metadata": {},
   "source": [
    "You can, however, \"cast\" an integer as a string, to make a string out of it:"
   ]
  },
  {
   "cell_type": "code",
   "execution_count": 10,
   "metadata": {},
   "outputs": [
    {
     "data": {
      "text/plain": [
       "'42'"
      ]
     },
     "execution_count": 10,
     "metadata": {},
     "output_type": "execute_result"
    }
   ],
   "source": [
    "str(42)"
   ]
  },
  {
   "cell_type": "markdown",
   "metadata": {},
   "source": [
    "OK! Put all that together!\n",
    "\n",
    "There are 18 kids in Camp Fire. If each of them has ten fingers, how many fingers to the Camp Fire Ravens have? Tell me! Tell me my assigning that number to a variable and then writing a sentence that includes that number as the last value of a cell. I'll do it for you, and then I'll hide how I did it. "
   ]
  },
  {
   "cell_type": "code",
   "execution_count": 11,
   "metadata": {},
   "outputs": [
    {
     "data": {
      "text/plain": [
       "'The Camp Fire Ravens have, among them, 180 fingers.'"
      ]
     },
     "execution_count": 11,
     "metadata": {},
     "output_type": "execute_result"
    }
   ],
   "source": []
  },
  {
   "cell_type": "markdown",
   "metadata": {},
   "source": [
    "OK, your turn! Do the same thing I did, in the cell below:"
   ]
  },
  {
   "cell_type": "code",
   "execution_count": null,
   "metadata": {},
   "outputs": [],
   "source": []
  }
 ],
 "metadata": {
  "kernelspec": {
   "display_name": "Python 3",
   "language": "python",
   "name": "python3"
  },
  "language_info": {
   "codemirror_mode": {
    "name": "ipython",
    "version": 3
   },
   "file_extension": ".py",
   "mimetype": "text/x-python",
   "name": "python",
   "nbconvert_exporter": "python",
   "pygments_lexer": "ipython3",
   "version": "3.7.0"
  }
 },
 "nbformat": 4,
 "nbformat_minor": 2
}
